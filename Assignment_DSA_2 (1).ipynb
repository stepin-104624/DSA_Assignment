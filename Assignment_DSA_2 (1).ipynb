{
 "cells": [
  {
   "cell_type": "raw",
   "id": "3ad5a944",
   "metadata": {},
   "source": [
    "1) Find the value of T(2) for the recurrence relation T(n) = 3T(n-1) + 12n, given that T(0)=5."
   ]
  },
  {
   "cell_type": "raw",
   "id": "f4c346b5",
   "metadata": {},
   "source": [
    "It seems there might be an issue with the way the characters are being copied. Let me provide the solution in a different format to see if that helps:\n",
    "\n",
    "Given the recurrence relation T(n) = 3T(n-1) + 12n with T(0) = 5, let's find T(2) step by step:\n",
    "\n",
    "Given:\n",
    "T(n) = 3T(n-1) + 12n\n",
    "T(0) = 5\n",
    "\n",
    "Calculate T(1):\n",
    "T(1) = 3T(0) + 12 * 1\n",
    "T(1) = 3 * 5 + 12\n",
    "T(1) = 15 + 12\n",
    "T(1) = 27\n",
    "\n",
    "Then, find T(2):\n",
    "T(2) = 3T(1) + 12 * 2\n",
    "T(2) = 3 * 27 + 24\n",
    "T(2) = 81 + 24\n",
    "T(2) = 105\n",
    "\n",
    "Therefore, T(2) = 105."
   ]
  },
  {
   "cell_type": "raw",
   "id": "a3c8f8c9",
   "metadata": {},
   "source": [
    "2. Given a recurrence relation, solve it using the substitution method:\n",
    "a. T(n) = T(n-1) + c\n",
    "b. T(n) = 2T(n/2) + n\n",
    "c. T(n) = 2T(n/2) + c\n",
    "d. T(n) = T(n/2) + c"
   ]
  },
  {
   "cell_type": "raw",
   "id": "f69d8a1d",
   "metadata": {},
   "source": [
    "a)T(2)=T(1)+c\n",
    "T(1)=T(0)+c\n",
    "T(n)=T(O)+nc\n",
    "\n",
    "b)T(n)=2T(n/2)+n\n",
    "T(n)=O(nlogn)\n",
    "\n",
    "c)T(n) = 2T(n/2) + c\n",
    " \n",
    "T(n)=O(n).\n",
    "\n",
    "d) T(n) = T(n/2) + c\n",
    "T(n)=O(logn).\n",
    "\n",
    "\n"
   ]
  },
  {
   "cell_type": "raw",
   "id": "42173ab4",
   "metadata": {},
   "source": [
    "3. Given a recurrence relation, solve it using the recursive tree approach:\n",
    "a. T(n) = 2T(n-1) +1\n",
    "b. T(n) = 2T(n/2) + n"
   ]
  },
  {
   "cell_type": "raw",
   "id": "94a039f9",
   "metadata": {},
   "source": [
    "a) O(2^n)\n",
    "b)O(nlogn)"
   ]
  }
 ],
 "metadata": {
  "kernelspec": {
   "display_name": "Python 3 (ipykernel)",
   "language": "python",
   "name": "python3"
  },
  "language_info": {
   "codemirror_mode": {
    "name": "ipython",
    "version": 3
   },
   "file_extension": ".py",
   "mimetype": "text/x-python",
   "name": "python",
   "nbconvert_exporter": "python",
   "pygments_lexer": "ipython3",
   "version": "3.10.9"
  }
 },
 "nbformat": 4,
 "nbformat_minor": 5
}
